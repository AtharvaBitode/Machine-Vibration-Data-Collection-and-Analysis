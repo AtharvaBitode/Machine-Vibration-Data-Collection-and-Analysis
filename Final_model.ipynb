{
  "nbformat": 4,
  "nbformat_minor": 0,
  "metadata": {
    "colab": {
      "provenance": []
    },
    "kernelspec": {
      "name": "python3",
      "display_name": "Python 3"
    },
    "language_info": {
      "name": "python"
    }
  },
  "cells": [
    {
      "cell_type": "code",
      "execution_count": null,
      "metadata": {
        "colab": {
          "base_uri": "https://localhost:8080/",
          "height": 603
        },
        "id": "U0b5vl3I8xCv",
        "outputId": "31ba185d-4717-48d9-8ade-37b1d5b8bfa1"
      },
      "outputs": [
        {
          "output_type": "stream",
          "name": "stdout",
          "text": [
            "\n",
            " Validation Set Classification Report:\n",
            "               precision    recall  f1-score   support\n",
            "\n",
            "           0       0.97      0.92      0.94        64\n",
            "           1       0.29      0.50      0.36         4\n",
            "\n",
            "    accuracy                           0.90        68\n",
            "   macro avg       0.63      0.71      0.65        68\n",
            "weighted avg       0.93      0.90      0.91        68\n",
            "\n",
            "\n",
            "Test Set Classification Report:\n",
            "               precision    recall  f1-score   support\n",
            "\n",
            "           0       1.00      0.97      0.98        64\n",
            "           1       0.67      1.00      0.80         4\n",
            "\n",
            "    accuracy                           0.97        68\n",
            "   macro avg       0.83      0.98      0.89        68\n",
            "weighted avg       0.98      0.97      0.97        68\n",
            "\n"
          ]
        },
        {
          "output_type": "error",
          "ename": "TypeError",
          "evalue": "'cm' is an invalid keyword argument for print()",
          "traceback": [
            "\u001b[0;31m---------------------------------------------------------------------------\u001b[0m",
            "\u001b[0;31mTypeError\u001b[0m                                 Traceback (most recent call last)",
            "\u001b[0;32m<ipython-input-5-f36a9748529e>\u001b[0m in \u001b[0;36m<cell line: 0>\u001b[0;34m()\u001b[0m\n\u001b[1;32m     64\u001b[0m \u001b[0;34m\u001b[0m\u001b[0m\n\u001b[1;32m     65\u001b[0m \u001b[0;31m# 13. Confusion Matrix\u001b[0m\u001b[0;34m\u001b[0m\u001b[0;34m\u001b[0m\u001b[0m\n\u001b[0;32m---> 66\u001b[0;31m \u001b[0mprint\u001b[0m\u001b[0;34m(\u001b[0m\u001b[0mcm\u001b[0m \u001b[0;34m=\u001b[0m \u001b[0mconfusion_matrix\u001b[0m\u001b[0;34m(\u001b[0m\u001b[0my_test\u001b[0m\u001b[0;34m,\u001b[0m \u001b[0my_test_pred\u001b[0m\u001b[0;34m)\u001b[0m\u001b[0;34m)\u001b[0m\u001b[0;34m\u001b[0m\u001b[0;34m\u001b[0m\u001b[0m\n\u001b[0m\u001b[1;32m     67\u001b[0m \u001b[0mdisp\u001b[0m \u001b[0;34m=\u001b[0m \u001b[0mConfusionMatrixDisplay\u001b[0m\u001b[0;34m(\u001b[0m\u001b[0mconfusion_matrix\u001b[0m\u001b[0;34m=\u001b[0m\u001b[0mcm\u001b[0m\u001b[0;34m,\u001b[0m \u001b[0mdisplay_labels\u001b[0m\u001b[0;34m=\u001b[0m\u001b[0mmodel\u001b[0m\u001b[0;34m.\u001b[0m\u001b[0mclasses_\u001b[0m\u001b[0;34m)\u001b[0m\u001b[0;34m\u001b[0m\u001b[0;34m\u001b[0m\u001b[0m\n\u001b[1;32m     68\u001b[0m \u001b[0;34m\u001b[0m\u001b[0m\n",
            "\u001b[0;31mTypeError\u001b[0m: 'cm' is an invalid keyword argument for print()"
          ]
        }
      ],
      "source": [
        "import pandas as pd\n",
        "import numpy as np\n",
        "import matplotlib.pyplot as plt\n",
        "from scipy.fft import fft, fftfreq\n",
        "\n",
        "from sklearn.ensemble import RandomForestClassifier\n",
        "from sklearn.model_selection import train_test_split, cross_val_score\n",
        "from sklearn.preprocessing import StandardScaler\n",
        "from sklearn.metrics import classification_report, confusion_matrix, ConfusionMatrixDisplay\n",
        "\n",
        "from imblearn.over_sampling import SMOTE\n",
        "\n",
        "# 1. Load data\n",
        "df = pd.read_excel(\"train&test_data.csv\", sheet_name=\"Sheet1\")\n",
        "\n",
        "# 2. Compute magnitude\n",
        "df['magnitude'] = np.sqrt(df['x_axis']**2 + df['y_axis']**2 + df['z_axis']**2)\n",
        "\n",
        "# 3. Rolling statistics\n",
        "window_size = 20\n",
        "df['rolling_mean'] = df['magnitude'].rolling(window=window_size, min_periods=1).mean()\n",
        "df['rolling_std'] = df['magnitude'].rolling(window=window_size, min_periods=1).std()\n",
        "\n",
        "# 4. Drop NaNs\n",
        "df_cleaned = df.dropna().reset_index(drop=True)\n",
        "\n",
        "# 5. Features and labels\n",
        "features = df_cleaned[['x_axis', 'y_axis', 'z_axis', 'magnitude', 'rolling_mean', 'rolling_std']]\n",
        "labels = df_cleaned['label']\n",
        "\n",
        "# 6. Train-Validation-Test Split (60/20/20)\n",
        "X_temp, X_test, y_temp, y_test = train_test_split(features, labels, test_size=0.2, stratify=labels, random_state=42)\n",
        "X_train, X_val, y_train, y_val = train_test_split(X_temp, y_temp, test_size=0.25, stratify=y_temp, random_state=42)\n",
        "\n",
        "# 7. Feature Scaling\n",
        "scaler = StandardScaler()\n",
        "X_train_scaled = scaler.fit_transform(X_train)\n",
        "X_val_scaled = scaler.transform(X_val)\n",
        "X_test_scaled = scaler.transform(X_test)\n",
        "\n",
        "# 8. Apply SMOTE on train set only\n",
        "smote = SMOTE(sampling_strategy=0.5, random_state=42)  # Only partially balance\n",
        "X_train_sm, y_train_sm = smote.fit_resample(X_train_scaled, y_train)\n",
        "\n",
        "# 9. Model with limited complexity\n",
        "model = RandomForestClassifier(\n",
        "    n_estimators=50,\n",
        "    max_depth=5,\n",
        "    min_samples_leaf=10,\n",
        "    random_state=42\n",
        ")\n",
        "model.fit(X_train_sm, y_train_sm)\n",
        "\n",
        "# 10. Cross-validation (on training data)\n",
        "cv_scores = cross_val_score(model, X_train_sm, y_train_sm, cv=5, scoring='f1_macro')\n",
        "\n",
        "# 11. Evaluate on validation set\n",
        "y_val_pred = model.predict(X_val_scaled)\n",
        "print(\"\\n Validation Set Classification Report:\\n\", classification_report(y_val, y_val_pred))\n",
        "\n",
        "# 12. Final Test Evaluation\n",
        "y_test_pred = model.predict(X_test_scaled)\n",
        "print(\"\\nTest Set Classification Report:\\n\", classification_report(y_test, y_test_pred))\n",
        "\n",
        "# 13. Confusion Matrix\n",
        "print(cm = confusion_matrix(y_test, y_test_pred))\n",
        "disp = ConfusionMatrixDisplay(confusion_matrix=cm, display_labels=model.classes_)\n",
        "\n",
        "\n",
        "# 14. Predict full dataset\n",
        "df_cleaned['prediction'] = model.predict(scaler.transform(features))\n",
        "df_cleaned['fault_detected'] = df_cleaned['prediction'].apply(lambda x: '⚠️ Fault Detected' if x == 1 else '✅ Normal')\n",
        "\n",
        "# 15. Frequency Analysis\n",
        "n = len(df_cleaned)\n",
        "T = 1.0  # Adjust if actual sampling time is known\n",
        "yf = fft(df_cleaned['magnitude'].values)\n",
        "xf = fftfreq(n, T)[:n//2]\n",
        "dominant_freq = xf[1:][np.argmax(np.abs(yf[1:n//2]))]  # skip DC\n",
        "\n",
        "\n",
        "# 16. Vibration Plot\n",
        "plt.figure(figsize=(14, 6))\n",
        "plt.plot(df_cleaned.index, df_cleaned['magnitude'], label='Vibration Magnitude', color='blue')\n",
        "plt.plot(df_cleaned.index, df_cleaned['x_axis'], label='X-Axis', color='black')\n",
        "plt.plot(df_cleaned.index, df_cleaned['y_axis'], label='Y-Axis', color='green')\n",
        "plt.plot(df_cleaned.index, df_cleaned['z_axis'], label='Z-Axis', color='red')\n",
        "plt.title(f'Machine Vibration Monitoring (Dominant Frequency ≈ {dominant_freq:.2f} Hz)')\n",
        "plt.xlabel('Time Index')\n",
        "plt.ylabel('Magnitude')\n",
        "plt.legend()\n",
        "plt.grid(True)\n",
        "plt.tight_layout()\n",
        "plt.savefig(\"final_machine_vibration_plot.png\")\n",
        "plt.show()\n",
        "\n",
        "# 17. Save output\n",
        "df_cleaned.to_excel(\"Final_Machine_Fault_Report.xlsx\", index=False)\n"
      ]
    },
    {
      "cell_type": "code",
      "source": [
        "import joblib\n",
        "# Save model and scaler\n",
        "joblib.dump(model, 'rf_vibration_model.pkl')\n",
        "joblib.dump(scaler, 'scaler_vibration.pkl')"
      ],
      "metadata": {
        "colab": {
          "base_uri": "https://localhost:8080/"
        },
        "id": "3jc8Mg3DfWT0",
        "outputId": "6c835576-5960-4a2f-c5c3-80c32e0c7453"
      },
      "execution_count": null,
      "outputs": [
        {
          "output_type": "execute_result",
          "data": {
            "text/plain": [
              "['scaler_vibration.pkl']"
            ]
          },
          "metadata": {},
          "execution_count": 21
        }
      ]
    }
  ]
}